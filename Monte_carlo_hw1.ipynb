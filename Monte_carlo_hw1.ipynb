{
  "nbformat": 4,
  "nbformat_minor": 0,
  "metadata": {
    "colab": {
      "provenance": [],
      "authorship_tag": "ABX9TyMX1DZ+dEcELokHwA+yx1s9",
      "include_colab_link": true
    },
    "kernelspec": {
      "name": "python3",
      "display_name": "Python 3"
    },
    "language_info": {
      "name": "python"
    }
  },
  "cells": [
    {
      "cell_type": "markdown",
      "metadata": {
        "id": "view-in-github",
        "colab_type": "text"
      },
      "source": [
        "<a href=\"https://colab.research.google.com/github/kaikaichenzehao/gitskills/blob/master/Monte_carlo_hw1.ipynb\" target=\"_parent\"><img src=\"https://colab.research.google.com/assets/colab-badge.svg\" alt=\"Open In Colab\"/></a>"
      ]
    },
    {
      "cell_type": "code",
      "execution_count": null,
      "metadata": {
        "id": "ni5i3y85_jC6"
      },
      "outputs": [],
      "source": [
        "import numpy as np\n",
        "import math\n",
        "import random"
      ]
    },
    {
      "cell_type": "markdown",
      "source": [
        "Problem 2"
      ],
      "metadata": {
        "id": "Vxx9yrYTHlA_"
      }
    },
    {
      "cell_type": "code",
      "source": [
        "from matplotlib import pyplot as plt\n",
        "def V_s_c_division(n,R):\n",
        "  return pow(math.pi,n/2)/(pow(2,n)*math.gamma(n/2+1))\n",
        "def fraction_of_darts(n):\n",
        "  R=1\n",
        "  results=np.zeros(n)\n",
        "  results.astype(float)\n",
        "  for i in range(n):\n",
        "    results[i]=V_s_c_division(i,1)\n",
        "  return results"
      ],
      "metadata": {
        "id": "HmVcpdVzHkhy"
      },
      "execution_count": null,
      "outputs": []
    },
    {
      "cell_type": "code",
      "source": [
        "results=fraction_of_darts(100)\n",
        "x=np.linspace(1.0, 100.0, num=100)\n",
        "plt.plot(x,results)\n",
        "plt.show()"
      ],
      "metadata": {
        "colab": {
          "base_uri": "https://localhost:8080/",
          "height": 430
        },
        "id": "YhReJSriJLDQ",
        "outputId": "80c2301c-299e-4fa7-9ff8-4b56ab98233c"
      },
      "execution_count": null,
      "outputs": [
        {
          "output_type": "display_data",
          "data": {
            "text/plain": [
              "<Figure size 640x480 with 1 Axes>"
            ],
            "image/png": "[encoded data removed]"
          },
          "metadata": {}
        }
      ]
    },
    {
      "cell_type": "code",
      "source": [
        "results"
      ],
      "metadata": {
        "colab": {
          "base_uri": "https://localhost:8080/"
        },
        "id": "mpZboKL0LLur",
        "outputId": "ffe4df8d-68e5-4a60-d76e-2167e0e115cb"
      },
      "execution_count": null,
      "outputs": [
        {
          "output_type": "execute_result",
          "data": {
            "text/plain": [
              "array([1.00000000e+00, 2.00000000e+00, 3.14159265e+00, 4.18879020e+00,\n",
              "       4.93480220e+00, 5.26378901e+00, 5.16771278e+00, 4.72476597e+00,\n",
              "       4.05871213e+00, 3.29850890e+00, 2.55016404e+00, 1.88410388e+00,\n",
              "       1.33526277e+00, 9.10628755e-01, 5.99264529e-01, 3.81443281e-01,\n",
              "       2.35330630e-01, 1.40981107e-01, 8.21458866e-02, 4.66216010e-02,\n",
              "       2.58068914e-02, 1.39491504e-02, 7.37043095e-03, 3.81065639e-03,\n",
              "       1.92957431e-03, 9.57722409e-04, 4.66302806e-04, 2.22872125e-04,\n",
              "       1.04638105e-04, 4.82878227e-05, 2.19153534e-05, 9.78713995e-06,\n",
              "       4.30306959e-06, 1.86346709e-06, 7.95205400e-07, 3.34528829e-07,\n",
              "       1.38789525e-07, 5.68082872e-08, 2.29484290e-08, 9.15223065e-09,\n",
              "       3.60473080e-09, 1.40256491e-09, 5.39266466e-10, 2.04943610e-10,\n",
              "       7.70070713e-11, 2.86155261e-11, 1.05184717e-11, 3.82546071e-12,\n",
              "       1.37686473e-12, 4.90532215e-13, 1.73021925e-13, 6.04334276e-14,\n",
              "       2.09063234e-14, 7.16442310e-15, 2.43256118e-15, 8.18461781e-16,\n",
              "       2.72932726e-16, 9.02201234e-17, 2.95670154e-17, 9.60796193e-18,\n",
              "       3.09625062e-18, 9.89649266e-19, 3.13779296e-19, 9.87007893e-20,\n",
              "       3.08052104e-20, 9.54085153e-21, 2.93264917e-21, 8.94730420e-22,\n",
              "       2.70976150e-22, 8.14747395e-23, 2.43227623e-23, 7.21015333e-24,\n",
              "       2.12256143e-24, 6.20585335e-25, 1.80222254e-25, 5.19900355e-26,\n",
              "       1.48996029e-26, 4.24237697e-27, 1.20021751e-27, 3.37413173e-28,\n",
              "       9.42648628e-29, 2.61732036e-29, 7.22297074e-30, 1.98133841e-30,\n",
              "       5.40276948e-31, 1.46460193e-31, 3.94727928e-32, 1.05774314e-32,\n",
              "       2.81835082e-33, 7.46741142e-34, 1.96758005e-34, 5.15594832e-35,\n",
              "       1.34376848e-35, 3.48341707e-36, 8.98207063e-37, 2.30388999e-37,\n",
              "       5.87875148e-38, 1.49234719e-38, 3.76911071e-39, 9.47140802e-40])"
            ]
          },
          "metadata": {},
          "execution_count": 49
        }
      ]
    },
    {
      "cell_type": "markdown",
      "source": [
        "Problem 3"
      ],
      "metadata": {
        "id": "Z1i6tNFmGmB5"
      }
    },
    {
      "cell_type": "code",
      "source": [
        "\n",
        "number=10000\n",
        "def g_x(x1,x2,H):\n",
        "  square_x=x1**2+x2**2\n",
        "  if square_x<=1:\n",
        "    return H*(1-math.sqrt(square_x))\n",
        "  else:\n",
        "    return 0\n",
        "def test_g_bar(n=100):\n",
        "  x_num=int(math.sqrt(n))\n",
        "  results=np.zeros(x_num)\n",
        "  results.astype(float)\n",
        "  for i in range(x_num):\n",
        "    x1=random.random()\n",
        "    x2=random.random()\n",
        "    H=2\n",
        "    f_result=g_x(x1,x2,H)\n",
        "    results[i]=f_result\n",
        "  return np.average(results)"
      ],
      "metadata": {
        "id": "OzXKNLqA_p2I"
      },
      "execution_count": null,
      "outputs": []
    },
    {
      "cell_type": "code",
      "source": [],
      "metadata": {
        "id": "jGaeIyxIkGSN"
      },
      "execution_count": null,
      "outputs": []
    },
    {
      "cell_type": "code",
      "source": [],
      "metadata": {
        "id": "uDvT5tn16wCN"
      },
      "execution_count": null,
      "outputs": []
    },
    {
      "cell_type": "markdown",
      "source": [
        "# 新段落"
      ],
      "metadata": {
        "id": "MNWM7-yF6w41"
      }
    },
    {
      "cell_type": "markdown",
      "source": [
        "# 新段落"
      ],
      "metadata": {
        "id": "1IhUbOyZ6xOc"
      }
    },
    {
      "cell_type": "markdown",
      "source": [
        "# 新段落"
      ],
      "metadata": {
        "id": "8W8jtZwO6xRK"
      }
    },
    {
      "cell_type": "code",
      "source": [
        "g_bar=test_g_bar()\n",
        "print(g_bar)"
      ],
      "metadata": {
        "colab": {
          "base_uri": "https://localhost:8080/"
        },
        "id": "WY1bByOIBcvz",
        "outputId": "42c186e9-e0de-4f4d-b461-22c4f983e2b2"
      },
      "execution_count": null,
      "outputs": [
        {
          "output_type": "stream",
          "name": "stdout",
          "text": [
            "0.48762572970320867\n"
          ]
        }
      ]
    },
    {
      "cell_type": "code",
      "source": [
        "I=4*g_bar\n",
        "print(\"Monte carlo result= \",I)\n",
        "V=math.pi*2/3\n",
        "print(\"True volume V=\",V)"
      ],
      "metadata": {
        "colab": {
          "base_uri": "https://localhost:8080/"
        },
        "id": "FzD6UPP5E-sK",
        "outputId": "897cdf05-1ecf-44b4-8789-c80b0eaafd7e"
      },
      "execution_count": null,
      "outputs": [
        {
          "output_type": "stream",
          "name": "stdout",
          "text": [
            "Monte carlo result=  1.9505029188128347\n",
            "True volume V= 2.0943951023931953\n"
          ]
        }
      ]
    },
    {
      "cell_type": "code",
      "source": [
        "def f(t):\n",
        "  return (-1/2)*(t**4)+4*(t**3)-10*(t**2)+8.5*t+1\n",
        "f(0.4)"
      ],
      "metadata": {
        "colab": {
          "base_uri": "https://localhost:8080/"
        },
        "id": "33C23ddCFdgm",
        "outputId": "9e0a93dc-ec0d-48b6-fa8a-be4f8a77f47f"
      },
      "execution_count": null,
      "outputs": [
        {
          "output_type": "execute_result",
          "data": {
            "text/plain": [
              "3.0432"
            ]
          },
          "metadata": {},
          "execution_count": 4
        }
      ]
    }
  ]
}